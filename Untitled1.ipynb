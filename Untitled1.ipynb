{
  "nbformat": 4,
  "nbformat_minor": 0,
  "metadata": {
    "colab": {
      "provenance": []
    },
    "kernelspec": {
      "name": "python3",
      "display_name": "Python 3"
    },
    "language_info": {
      "name": "python"
    }
  },
  "cells": [
    {
      "cell_type": "code",
      "execution_count": null,
      "metadata": {
        "id": "FUun07OmsbYu",
        "colab": {
          "base_uri": "https://localhost:8080/"
        },
        "outputId": "ab43d2be-349f-4e04-eb60-07c7b8a70b7d"
      },
      "outputs": [
        {
          "output_type": "stream",
          "name": "stdout",
          "text": [
            "Original string: Hello, World!\n",
            "Reversed string: !dlroW ,olleH\n"
          ]
        }
      ],
      "source": [
        "#1.write a code to reserve  a string\n",
        "def reverse_string(s):\n",
        "    reversed_string = \"\"\n",
        "    for char in s:\n",
        "        reversed_string = char + reversed_string\n",
        "    return reversed_string\n",
        "\n",
        "# Example usage\n",
        "input_string = \"Hello, World!\"\n",
        "reversed_string = reverse_string(input_string)\n",
        "print(\"Original string:\", input_string)\n",
        "print(\"Reversed string:\", reversed_string)\n",
        "\n"
      ]
    },
    {
      "cell_type": "markdown",
      "source": [],
      "metadata": {
        "id": "72gHx7ljskco"
      }
    },
    {
      "cell_type": "code",
      "source": [
        "#2.write a code to count the numbers of vowels in a string\n",
        "def count_vowels(s):\n",
        "    vowels = \"aeiouAEIOU\"\n",
        "    count = 0\n",
        "    for char in s:\n",
        "        if char in vowels:\n",
        "            count += 1\n",
        "    return count\n",
        "\n",
        "# Example usage\n",
        "input_string = \"Hello, World!\"\n",
        "vowel_count = count_vowels(input_string)\n",
        "print(\"Original string:\", input_string)\n",
        "print(\"Number of vowels:\", vowel_count)\n"
      ],
      "metadata": {
        "id": "2048rI7isjbU",
        "colab": {
          "base_uri": "https://localhost:8080/"
        },
        "collapsed": true,
        "outputId": "bedff9c8-20dc-46cb-9251-0c7aaa7cb6bb"
      },
      "execution_count": null,
      "outputs": [
        {
          "output_type": "stream",
          "name": "stdout",
          "text": [
            "Original string: Hello, World!\n",
            "Number of vowels: 3\n"
          ]
        }
      ]
    },
    {
      "cell_type": "code",
      "source": [
        "#3.write a code to Check if a Given String is a Palindrome\n",
        "def is_palindrome(s):\n",
        "    s = s.lower().replace(\" \", \"\")  # Case insensitive and ignoring spaces\n",
        "    return s == s[::-1]\n",
        "\n",
        "# Example usage\n",
        "input_string = \"A man a plan a canal Panama\"\n",
        "print(is_palindrome(input_string))\n"
      ],
      "metadata": {
        "colab": {
          "base_uri": "https://localhost:8080/"
        },
        "id": "cU3YaZHuosjy",
        "outputId": "577c6d3e-4b64-49e1-96d2-5b1698b8757e"
      },
      "execution_count": null,
      "outputs": [
        {
          "output_type": "stream",
          "name": "stdout",
          "text": [
            "True\n"
          ]
        }
      ]
    },
    {
      "cell_type": "code",
      "source": [
        "#4 writ a code Check if Two Given Strings are Anagrams\n",
        "def are_anagrams(str1, str2):\n",
        "    return sorted(str1) == sorted(str2)\n",
        "\n",
        "# Example usage\n",
        "str1 = \"listen\"\n",
        "str2 = \"silent\"\n",
        "print(are_anagrams(str1, str2))\n"
      ],
      "metadata": {
        "colab": {
          "base_uri": "https://localhost:8080/"
        },
        "id": "3hmi99pupc2x",
        "outputId": "ec3fdaeb-be67-48de-ec89-7fdd156a15e8"
      },
      "execution_count": null,
      "outputs": [
        {
          "output_type": "stream",
          "name": "stdout",
          "text": [
            "True\n"
          ]
        }
      ]
    },
    {
      "cell_type": "code",
      "source": [
        "#5. Find All Occurrences of a Given Substring Within Another String\n",
        "def find_substring_occurrences(s, sub):\n",
        "    occurrences = []\n",
        "    start = 0\n",
        "    while start < len(s):\n",
        "        start = s.find(sub, start)\n",
        "        if start == -1:\n",
        "            break\n",
        "        occurrences.append(start)\n",
        "        start += len(sub)\n",
        "    return occurrences\n",
        "\n",
        "# Example usage\n",
        "s = \"This is a cat. This is only a cat.\"\n",
        "sub = \"cat\"\n",
        "print(find_substring_occurrences(s, sub))\n"
      ],
      "metadata": {
        "colab": {
          "base_uri": "https://localhost:8080/"
        },
        "id": "DTchkByypm5c",
        "outputId": "7f6d6768-84fc-4856-e1d7-544f8aa9a60f"
      },
      "execution_count": null,
      "outputs": [
        {
          "output_type": "stream",
          "name": "stdout",
          "text": [
            "[10, 30]\n"
          ]
        }
      ]
    },
    {
      "cell_type": "code",
      "source": [
        "#7.Perform Basic String Compression Using the Counts of Repeated Characters\n",
        "def compress_string(s):\n",
        "    compressed = []\n",
        "    count = 1\n",
        "    for i in range(1, len(s)):\n",
        "        if s[i] == s[i - 1]:\n",
        "            count += 1\n",
        "        else:\n",
        "            compressed.append(s[i - 1] + str(count))\n",
        "            count = 1\n",
        "    compressed.append(s[-1] + str(count))\n",
        "    return ''.join(compressed)\n",
        "\n",
        "# Example usage\n",
        "input_string = \"AASDSBRSJB\"\n",
        "print(compress_string(input_string))\n"
      ],
      "metadata": {
        "colab": {
          "base_uri": "https://localhost:8080/"
        },
        "id": "h1qBlauPpxwc",
        "outputId": "7d5b7e59-8d0e-431a-efe9-102ae31ad8bf"
      },
      "execution_count": null,
      "outputs": [
        {
          "output_type": "stream",
          "name": "stdout",
          "text": [
            "A2S1D1S1B1R1S1J1B1\n"
          ]
        }
      ]
    },
    {
      "cell_type": "code",
      "source": [
        "#7. Determine if a String has All Unique Characters\n",
        "def has_unique_characters(s):\n",
        "    return len(s) == len(set(s))\n",
        "\n",
        "# Example usage\n",
        "input_string = \"abcdefg\"\n",
        "print(has_unique_characters(input_string))\n"
      ],
      "metadata": {
        "colab": {
          "base_uri": "https://localhost:8080/"
        },
        "id": "C7chjFPUqKWU",
        "outputId": "e8b64172-2f76-4a4f-e059-b3016b6b4e5f"
      },
      "execution_count": null,
      "outputs": [
        {
          "output_type": "stream",
          "name": "stdout",
          "text": [
            "True\n"
          ]
        }
      ]
    },
    {
      "cell_type": "code",
      "source": [
        "#Convert a Given String to Uppercase or Lowercase\n",
        "def convert_case(s, to_upper=True):\n",
        "    return s.upper() if to_upper else s.lower()\n",
        "\n",
        "# Example usage\n",
        "input_string = \"Hello, World!\"\n",
        "print(convert_case(input_string, to_upper=True))\n",
        "print(convert_case(input_string, to_upper=False))\n",
        "\n"
      ],
      "metadata": {
        "colab": {
          "base_uri": "https://localhost:8080/"
        },
        "id": "52SRP0A5qQZU",
        "outputId": "d3bb790a-3998-4292-ecd9-ff7e7de9e8c4"
      },
      "execution_count": null,
      "outputs": [
        {
          "output_type": "stream",
          "name": "stdout",
          "text": [
            "HELLO, WORLD!\n",
            "hello, world!\n"
          ]
        }
      ]
    },
    {
      "cell_type": "code",
      "source": [
        "#9. Count the Number of Words in a String\n",
        "def count_words(s):\n",
        "    return len(s.split())\n",
        "\n",
        "# Example usage\n",
        "input_string = \"GOD IS GOOD\"\n",
        "print(count_words(input_string))\n"
      ],
      "metadata": {
        "colab": {
          "base_uri": "https://localhost:8080/"
        },
        "id": "sJqVVh_YqZVb",
        "outputId": "6889afa8-1192-42f3-fcf9-32b82d4f0395"
      },
      "execution_count": null,
      "outputs": [
        {
          "output_type": "stream",
          "name": "stdout",
          "text": [
            "3\n"
          ]
        }
      ]
    },
    {
      "cell_type": "code",
      "source": [
        "#10. Concatenate Two Strings Without Using the Operator\n",
        "def concatenate_strings(s1, s2):\n",
        "    return ''.join([s1, s2])\n",
        "\n",
        "# Example usage\n",
        "str1 = \"Hello, \"\n",
        "str2 = \"World!\"\n",
        "print(concatenate_strings(str1, str2))\n"
      ],
      "metadata": {
        "colab": {
          "base_uri": "https://localhost:8080/"
        },
        "id": "ekjinjSBrEY5",
        "outputId": "d0eda8cf-1152-43e2-e397-bf9ef3d25657"
      },
      "execution_count": null,
      "outputs": [
        {
          "output_type": "stream",
          "name": "stdout",
          "text": [
            "Hello, World!\n"
          ]
        }
      ]
    },
    {
      "cell_type": "code",
      "source": [
        "#11. Remove All Occurrences of a Specific Element From a List\n",
        "def remove_element(lst, element):\n",
        "    return [x for x in lst if x != element]\n",
        "\n",
        "# Example usage\n",
        "lst = [1, 2, 3, 4, 3, 2, 1]\n",
        "element_to_remove = 2\n",
        "print(remove_element(lst, element_to_remove))\n"
      ],
      "metadata": {
        "colab": {
          "base_uri": "https://localhost:8080/"
        },
        "id": "vAwRiogqrQiH",
        "outputId": "a0a2e144-a0a7-4b3b-a8d6-3d720ece2a25"
      },
      "execution_count": null,
      "outputs": [
        {
          "output_type": "stream",
          "name": "stdout",
          "text": [
            "[1, 3, 4, 3, 1]\n"
          ]
        }
      ]
    },
    {
      "cell_type": "code",
      "source": [
        "#12. Find the Second Largest Number in a Given List of Integers\n",
        "def second_largest(lst):\n",
        "    unique_sorted = sorted(set(lst), reverse=True)\n",
        "    return unique_sorted[1] if len(unique_sorted) > 1 else None\n",
        "\n",
        "# Example usage\n",
        "lst = [10, 20, 20, 4, 45, 99, 99]\n",
        "print(second_largest(lst))\n"
      ],
      "metadata": {
        "colab": {
          "base_uri": "https://localhost:8080/"
        },
        "id": "U6RaphunrYWr",
        "outputId": "79b2f0f4-4729-4489-e5b8-330ea579fe49"
      },
      "execution_count": null,
      "outputs": [
        {
          "output_type": "stream",
          "name": "stdout",
          "text": [
            "45\n"
          ]
        }
      ]
    },
    {
      "cell_type": "code",
      "source": [
        "#13. Count the Occurrences of Each Element in a List and Return a Dictionary\n",
        "def count_occurrences(lst):\n",
        "    occurrence_dict = {}\n",
        "    for item in lst:\n",
        "        occurrence_dict[item] = occurrence_dict.get(item, 0) + 1\n",
        "    return occurrence_dict\n",
        "\n",
        "# Example usage\n",
        "lst = [1, 2, 3, 1, 2, 1, 4, 5]\n",
        "print(count_occurrences(lst))\n"
      ],
      "metadata": {
        "colab": {
          "base_uri": "https://localhost:8080/"
        },
        "id": "04xOPRJHrfRX",
        "outputId": "768f6307-380e-4fdc-9ca9-c98c18ce0c0d"
      },
      "execution_count": null,
      "outputs": [
        {
          "output_type": "stream",
          "name": "stdout",
          "text": [
            "{1: 3, 2: 2, 3: 1, 4: 1, 5: 1}\n"
          ]
        }
      ]
    },
    {
      "cell_type": "code",
      "source": [
        "#14. Reverse a List In-Place Without Using Built-In Reverse Functions\n",
        "def reverse_list(lst):\n",
        "    start, end = 0, len(lst) - 1\n",
        "    while start < end:\n",
        "        lst[start], lst[end] = lst[end], lst[start]\n",
        "        start += 1\n",
        "        end -= 1\n",
        "\n",
        "# Example usage\n",
        "lst = [1, 2, 3, 4, 5]\n",
        "reverse_list(lst)\n",
        "print(lst)\n"
      ],
      "metadata": {
        "colab": {
          "base_uri": "https://localhost:8080/"
        },
        "id": "LPxLuHCyrmOO",
        "outputId": "2dd949b0-6465-41a4-902d-9a9dfcf375c4"
      },
      "execution_count": null,
      "outputs": [
        {
          "output_type": "stream",
          "name": "stdout",
          "text": [
            "[5, 4, 3, 2, 1]\n"
          ]
        }
      ]
    },
    {
      "cell_type": "code",
      "source": [
        "#15. Find and Remove Duplicates From a List While Preserving the Original Order\n",
        "def remove_duplicates(lst):\n",
        "    seen = set()\n",
        "    result = []\n",
        "    for item in lst:\n",
        "        if item not in seen:\n",
        "            seen.add(item)\n",
        "            result.append(item)\n",
        "    return result\n",
        "\n",
        "# Example usage\n",
        "lst = [1, 2, 2, 3, 4, 4, 5]\n",
        "print(remove_duplicates(lst))\n"
      ],
      "metadata": {
        "colab": {
          "base_uri": "https://localhost:8080/"
        },
        "id": "dwTTAv-Rrv0Z",
        "outputId": "0b34842d-17f9-46dc-93fc-ea2725353af8"
      },
      "execution_count": null,
      "outputs": [
        {
          "output_type": "stream",
          "name": "stdout",
          "text": [
            "[1, 2, 3, 4, 5]\n"
          ]
        }
      ]
    },
    {
      "cell_type": "code",
      "source": [
        "#16.Check if a Given List is Sorted (Either in Ascending or Descending Order)\n",
        "def is_sorted(lst):\n",
        "    return lst == sorted(lst) or lst == sorted(lst, reverse=True)\n",
        "\n",
        "# Example usage\n",
        "lst = [1, 2, 3, 4, 5]\n",
        "print(is_sorted(lst))\n"
      ],
      "metadata": {
        "colab": {
          "base_uri": "https://localhost:8080/"
        },
        "id": "vUmn0nlRrzhq",
        "outputId": "14ab9dc2-1108-43b5-a22a-59c277b81f8d"
      },
      "execution_count": null,
      "outputs": [
        {
          "output_type": "stream",
          "name": "stdout",
          "text": [
            "True\n"
          ]
        }
      ]
    },
    {
      "cell_type": "code",
      "source": [
        "#17.Merge Two Sorted Lists Into a Single Sorted List\n",
        "def merge_sorted_lists(lst1, lst2):\n",
        "    return sorted(lst1 + lst2)\n",
        "\n",
        "# Example usage\n",
        "lst1 = [1, 3, 5]\n",
        "lst2 = [2, 4, 6]\n",
        "print(merge_sorted_lists(lst1, lst2))\n"
      ],
      "metadata": {
        "colab": {
          "base_uri": "https://localhost:8080/"
        },
        "id": "a-63IDIcr69n",
        "outputId": "854ee43f-f0b3-4f3c-b104-2b452718c21e"
      },
      "execution_count": null,
      "outputs": [
        {
          "output_type": "stream",
          "name": "stdout",
          "text": [
            "[1, 2, 3, 4, 5, 6]\n"
          ]
        }
      ]
    },
    {
      "cell_type": "code",
      "source": [
        "#18.Find the Intersection of Two Given Lists\n",
        "def list_intersection(lst1, lst2):\n",
        "    return list(set(lst1) & set(lst2))\n",
        "\n",
        "# Example usage\n",
        "lst1 = [1, 2, 3, 4]\n",
        "lst2 = [3, 4, 5, 6]\n",
        "print(list_intersection(lst1, lst2))\n"
      ],
      "metadata": {
        "colab": {
          "base_uri": "https://localhost:8080/"
        },
        "id": "4ieTEReir--a",
        "outputId": "79d78620-5db0-4add-f6af-3f65a713a084"
      },
      "execution_count": null,
      "outputs": [
        {
          "output_type": "stream",
          "name": "stdout",
          "text": [
            "[3, 4]\n"
          ]
        }
      ]
    },
    {
      "cell_type": "code",
      "source": [
        "#19.Find the Union of Two Lists Without Duplicates\n",
        "def list_union(lst1, lst2):\n",
        "    return list(set(lst1) | set(lst2))\n",
        "\n",
        "# Example usage\n",
        "lst1 = [1, 2, 3, 4]\n",
        "lst2 = [3, 4, 5, 6]\n",
        "print(list_union(lst1, lst2))\n"
      ],
      "metadata": {
        "colab": {
          "base_uri": "https://localhost:8080/"
        },
        "id": "lTFt0tjnsCVP",
        "outputId": "225af937-09f4-45b7-b69e-60e0732d79ba"
      },
      "execution_count": null,
      "outputs": [
        {
          "output_type": "stream",
          "name": "stdout",
          "text": [
            "[1, 2, 3, 4, 5, 6]\n"
          ]
        }
      ]
    },
    {
      "cell_type": "code",
      "source": [
        "#20.Shuffle a Given List Randomly Without Using Any Built-In Shuffle Functions\n",
        "import random\n",
        "\n",
        "def shuffle_list(lst):\n",
        "    for i in range(len(lst) - 1, 0, -1):\n",
        "        j = random.randint(0, i)\n",
        "        lst[i], lst[j] = lst[j], lst[i]\n",
        "\n",
        "# Example usage\n",
        "lst = [1, 2, 3, 4, 5]\n",
        "shuffle_list(lst)\n",
        "print(lst)\n"
      ],
      "metadata": {
        "colab": {
          "base_uri": "https://localhost:8080/"
        },
        "id": "7iij3MgIsDlr",
        "outputId": "9a44206d-a695-4ee1-a8f7-84aba5152d7c"
      },
      "execution_count": null,
      "outputs": [
        {
          "output_type": "stream",
          "name": "stdout",
          "text": [
            "[2, 3, 4, 1, 5]\n"
          ]
        }
      ]
    },
    {
      "cell_type": "code",
      "source": [
        "#21. Return a New Tuple Containing Elements Common to Both Input Tuples\n",
        "def tuple_intersection(t1, t2):\n",
        "    return tuple(set(t1) & set(t2))\n",
        "\n",
        "# Example usage\n",
        "t1 = (1, 2, 3, 4)\n",
        "t2 = (3, 4, 5, 6)\n",
        "print(tuple_intersection(t1, t2))\n"
      ],
      "metadata": {
        "colab": {
          "base_uri": "https://localhost:8080/"
        },
        "id": "5AAS5swHsFxr",
        "outputId": "cf293f21-6b71-43a5-fdfd-966ce6b8b0e1"
      },
      "execution_count": null,
      "outputs": [
        {
          "output_type": "stream",
          "name": "stdout",
          "text": [
            "(3, 4)\n"
          ]
        }
      ]
    },
    {
      "cell_type": "code",
      "source": [
        "#22."
      ],
      "metadata": {
        "id": "pskqPZ4ptsmz"
      },
      "execution_count": null,
      "outputs": []
    },
    {
      "cell_type": "code",
      "source": [
        "#23.Concatenate Two Tuples\n",
        "def concatenate_tuples(t1, t2):\n",
        "    return t1 + t2\n",
        "\n",
        "# Example usage\n",
        "t1 = (1, 2, 3)\n",
        "t2 = (4, 5, 6)\n",
        "print(concatenate_tuples(t1, t2))\n"
      ],
      "metadata": {
        "colab": {
          "base_uri": "https://localhost:8080/"
        },
        "id": "_74nhpDBsIOR",
        "outputId": "a72eab48-fc01-4905-903e-b83e642adcf3"
      },
      "execution_count": null,
      "outputs": [
        {
          "output_type": "stream",
          "name": "stdout",
          "text": [
            "(1, 2, 3, 4, 5, 6)\n"
          ]
        }
      ]
    },
    {
      "cell_type": "code",
      "source": [],
      "metadata": {
        "id": "c6jh3MsKsITO"
      },
      "execution_count": null,
      "outputs": []
    },
    {
      "cell_type": "code",
      "source": [
        "#24. Develop a code that prompts the user to input two sets of strings. Then, print the elements that are present in the first set but not in the second set.\n",
        "# Prompt the user to input two sets of strings\n",
        "set1 = set(input(\"Enter the first set of strings (comma-separated): \").split(','))\n",
        "set2 = set(input(\"Enter the second set of strings (comma-separated): \").split(','))\n",
        "\n",
        "# Print the elements present in the first set but not in the second set\n",
        "difference = set1 - set2\n",
        "print(\"Elements in the first set but not in the second set:\", difference)\n"
      ],
      "metadata": {
        "id": "eDKzwq7It0Gm"
      },
      "execution_count": null,
      "outputs": []
    },
    {
      "cell_type": "code",
      "source": [
        "#25.Code to return a new tuple containing elements within a specified range of indices\n",
        "def slice_tuple(input_tuple, start_idx, end_idx):\n",
        "    return input_tuple[start_idx:end_idx]\n",
        "\n",
        "# Example usage\n",
        "input_tuple = ('a', 'b', 'c', 'd', 'e')\n",
        "start_idx = 1\n",
        "end_idx = 4\n",
        "result = slice_tuple(input_tuple, start_idx, end_idx)\n",
        "print(\"Original tuple:\", input_tuple)\n",
        "print(\"Sliced tuple:\", result)\n",
        "\n",
        "# Example explanation:\n",
        "# Input tuple: ('a', 'b', 'c', 'd', 'e')\n",
        "# Start index: 1, End index: 4\n",
        "# Sliced tuple: ('b', 'c', 'd')\n"
      ],
      "metadata": {
        "id": "mFfpsByit273"
      },
      "execution_count": null,
      "outputs": []
    },
    {
      "cell_type": "code",
      "source": [
        "#26.Code to print the union of two sets of characters\n",
        "# Prompt the user to input two sets of characters\n",
        "set1 = set(input(\"Enter the first set of characters (comma-separated): \").split(','))\n",
        "set2 = set(input(\"Enter the second set of characters (comma-separated): \").split(','))\n",
        "\n",
        "# Print the union of these two sets\n",
        "union_set = set1 | set2\n",
        "print(\"Union of the two sets:\", union_set)\n"
      ],
      "metadata": {
        "id": "li81wd22t4dp"
      },
      "execution_count": null,
      "outputs": []
    },
    {
      "cell_type": "code",
      "source": [
        "#27.Code to return the maximum and minimum values from a tuple using tuple unpacking\n",
        "def find_min_max(input_tuple):\n",
        "    return min(input_tuple), max(input_tuple)\n",
        "\n",
        "# Example usage\n",
        "input_tuple = tuple(map(int, input(\"Enter the elements of the tuple (comma-separated integers): \").split(',')))\n",
        "min_val, max_val = find_min_max(input_tuple)\n",
        "print(f\"Minimum value: {min_val}, Maximum value: {max_val}\")\n"
      ],
      "metadata": {
        "id": "wqpqWCXlt5tJ"
      },
      "execution_count": null,
      "outputs": []
    },
    {
      "cell_type": "code",
      "source": [
        "#28.Code to print the union, intersection, and difference of two sets of integers\n",
        "# Define two sets of integers\n",
        "set1 = set(map(int, input(\"Enter the first set of integers (comma-separated): \").split(',')))\n",
        "set2 = set(map(int, input(\"Enter the second set of integers (comma-separated): \").split(',')))\n",
        "\n",
        "# Print the union, intersection, and difference of the sets\n",
        "union = set1 | set2\n",
        "intersection = set1 & set2\n",
        "difference = set1 - set2\n",
        "\n",
        "print(f\"Union: {union}\")\n",
        "print(f\"Intersection: {intersection}\")\n",
        "print(f\"Difference (set1 - set2): {difference}\")\n"
      ],
      "metadata": {
        "id": "Dah4tmAjt66W"
      },
      "execution_count": null,
      "outputs": []
    },
    {
      "cell_type": "code",
      "source": [
        "#29.Code to return the count of occurrences of an element in a tuple\n",
        "def count_element(input_tuple, element):\n",
        "    return input_tuple.count(element)\n",
        "\n",
        "# Example usage\n",
        "input_tuple = tuple(input(\"Enter the elements of the tuple (comma-separated): \").split(','))\n",
        "element = input(\"Enter the element to count: \")\n",
        "\n",
        "count = count_element(input_tuple, element)\n",
        "print(f\"Occurrences of '{element}': {count}\")\n"
      ],
      "metadata": {
        "id": "5bOh7qact8jN"
      },
      "execution_count": null,
      "outputs": []
    },
    {
      "cell_type": "code",
      "source": [
        "#30.Code to print the symmetric difference of two sets of strings\n",
        "# Prompt the user to input two sets of strings\n",
        "set1 = set(input(\"Enter the first set of strings (comma-separated): \").split(','))\n",
        "set2 = set(input(\"Enter the second set of strings (comma-separated): \").split(','))\n",
        "\n",
        "# Print the symmetric difference of these two sets\n",
        "symmetric_difference = set1 ^ set2\n",
        "print(\"Symmetric difference of the two sets:\", symmetric_difference)\n"
      ],
      "metadata": {
        "id": "ctFH1dlkt-J1"
      },
      "execution_count": null,
      "outputs": []
    },
    {
      "cell_type": "code",
      "source": [
        "#31.Code to return a dictionary with word frequencies from a list of words\n",
        "def word_frequencies(word_list):\n",
        "    frequency_dict = {}\n",
        "    for word in word_list:\n",
        "        frequency_dict[word] = frequency_dict.get(word, 0) + 1\n",
        "    return frequency_dict\n",
        "\n",
        "# Example usage\n",
        "word_list = input(\"Enter a list of words (space-separated): \").split()\n",
        "freq_dict = word_frequencies(word_list)\n",
        "print(\"Word frequencies:\", freq_dict)\n"
      ],
      "metadata": {
        "id": "0zoolCIxt_hr"
      },
      "execution_count": null,
      "outputs": []
    },
    {
      "cell_type": "code",
      "source": [
        "#32.Code to merge two dictionaries and sum values for common keys\n",
        "def merge_dicts(dict1, dict2):\n",
        "    merged_dict = dict1.copy()  # Start with a copy of the first dictionary\n",
        "    for key, value in dict2.items():\n",
        "        if key in merged_dict:\n",
        "            merged_dict[key] += value\n",
        "        else:\n",
        "            merged_dict[key] = value\n",
        "    return merged_dict\n",
        "\n",
        "# Example usage\n",
        "dict1 = {'a': 1, 'b': 2, 'c': 3}\n",
        "dict2 = {'b': 3, 'c': 4, 'd': 5}\n",
        "\n",
        "merged_dict = merge_dicts(dict1, dict2)\n",
        "print(\"Merged dictionary:\", merged_dict)\n"
      ],
      "metadata": {
        "id": "wKvc2ItauAnu"
      },
      "execution_count": null,
      "outputs": []
    },
    {
      "cell_type": "code",
      "source": [
        "#33.Code to access a value in a nested dictionary using a list of keys\n",
        "def access_nested_dict(nested_dict, key_list):\n",
        "    current_value = nested_dict\n",
        "    for key in key_list:\n",
        "        if isinstance(current_value, dict) and key in current_value:\n",
        "            current_value = current_value[key]\n",
        "        else:\n",
        "            return None\n",
        "    return current_value\n",
        "\n",
        "# Example usage\n",
        "nested_dict = {\n",
        "    'a': {'b': {'c': 42}},\n",
        "    'x': {'y': {'z': 100}}\n",
        "}\n",
        "keys = ['a', 'b', 'c']\n",
        "value = access_nested_dict(nested_dict, keys)\n",
        "print(f\"Value at {keys}: {value}\")\n"
      ],
      "metadata": {
        "id": "A02RUjgOuDK5"
      },
      "execution_count": null,
      "outputs": []
    },
    {
      "cell_type": "code",
      "source": [
        "#34.Code to sort a dictionary based on values\n",
        "def sort_dict_by_values(input_dict, ascending=True):\n",
        "    return dict(sorted(input_dict.items(), key=lambda item: item[1], reverse=not ascending))\n",
        "\n",
        "# Example usage\n",
        "input_dict = {'a': 3, 'b': 1, 'c': 2}\n",
        "sorted_dict = sort_dict_by_values(input_dict, ascending=True)\n",
        "print(\"Sorted dictionary (ascending):\", sorted_dict)\n"
      ],
      "metadata": {
        "id": "CEpfsszluFHg"
      },
      "execution_count": null,
      "outputs": []
    },
    {
      "cell_type": "code",
      "source": [
        "##35.Write a code that inverts a dictionary by swapping keys and values. Ensure that the inverted dictionary correctly handles cases where multiple keys have the same value by storing the keys as a list in the inverted dictionary.\n",
        "def invert_dict(input_dict):\n",
        "    inverted_dict = {}\n",
        "    for key, value in input_dict.items():\n",
        "        if value in inverted_dict:\n",
        "            inverted_dict[value].append(key)  # Append key to the list if value already exists\n",
        "        else:\n",
        "            inverted_dict[value] = [key]  # Create a new list with the key if value does not exist\n",
        "    return inverted_dict\n"
      ],
      "metadata": {
        "id": "iuiOBMTsuGOT"
      },
      "execution_count": null,
      "outputs": []
    }
  ]
}